{
 "cells": [
  {
   "cell_type": "markdown",
   "metadata": {},
   "source": [
    "# Spoiler Detection"
   ]
  },
  {
   "cell_type": "code",
   "execution_count": 28,
   "metadata": {
    "scrolled": true
   },
   "outputs": [],
   "source": [
    "import numpy as np\n",
    "import json\n",
    "import pickle\n",
    "import time\n",
    "import os\n",
    "\n",
    "from keras.models import Sequential\n",
    "from keras.layers import Dense, Dropout, Embedding, LSTM, Bidirectional\n",
    "from keras.preprocessing.text import Tokenizer\n",
    "from keras.preprocessing import sequence\n",
    "from sklearn.model_selection import train_test_split \n",
    "from pprint import pprint"
   ]
  },
  {
   "cell_type": "markdown",
   "metadata": {},
   "source": [
    "### load data\n",
    "\n",
    "https://www.kaggle.com/rmisra/imdb-spoiler-dataset#IMDB_reviews.json (573.913 Reviews)"
   ]
  },
  {
   "cell_type": "code",
   "execution_count": 29,
   "metadata": {},
   "outputs": [],
   "source": [
    "with open('../../Daten/IMDB_reviews/IMDB_reviews2.json') as f:\n",
    "    data = json.load(f)\n",
    "# pprint(data)"
   ]
  },
  {
   "cell_type": "code",
   "execution_count": 30,
   "metadata": {},
   "outputs": [],
   "source": [
    "X_data, y_data = list(), list()\n",
    "count_spoiler, count_non_spoiler = 0, 0\n",
    "num_data_per_class = 10000\n",
    "\n",
    "for i in range(len(data[\"data\"])):\n",
    "    if data[\"data\"][i][\"is_spoiler\"] == True and count_spoiler < num_data_per_class:\n",
    "        X_data.append(data[\"data\"][i][\"review_text\"])\n",
    "        y_data.append(1)\n",
    "        count_spoiler+=1\n",
    "    if data[\"data\"][i][\"is_spoiler\"] == False and count_non_spoiler < num_data_per_class:\n",
    "        X_data.append(data[\"data\"][i][\"review_text\"])\n",
    "        y_data.append(0)\n",
    "        count_non_spoiler+=1\n",
    "    \n",
    "X_data = np.asarray(X_data)\n",
    "y_data = np.asarray(y_data)\n",
    "\n",
    "# y_data = [1 if y == True else 0 for y in y_data] # convert label to 0 or 1"
   ]
  },
  {
   "cell_type": "code",
   "execution_count": 31,
   "metadata": {},
   "outputs": [
    {
     "name": "stdout",
     "output_type": "stream",
     "text": [
      "Anz. Spoiler: 10000\n",
      "Anz. Nicht-Spoiler: 10000\n"
     ]
    }
   ],
   "source": [
    "print(\"Anz. Spoiler: {}\".format(sum([y for y in y_data])))\n",
    "print(\"Anz. Nicht-Spoiler: {}\".format(sum([1 if y == 0 else 0 for y in y_data])))"
   ]
  },
  {
   "cell_type": "markdown",
   "metadata": {},
   "source": [
    "#### save an load pickle files"
   ]
  },
  {
   "cell_type": "code",
   "execution_count": 32,
   "metadata": {},
   "outputs": [],
   "source": [
    "pickle.dump(y_data, open(\"pickle_files/y_data.pickle\", \"wb\"))\n",
    "pickle.dump(X_data, open(\"pickle_files/X_data.pickle\", \"wb\"))"
   ]
  },
  {
   "cell_type": "code",
   "execution_count": 33,
   "metadata": {},
   "outputs": [],
   "source": [
    "X_data = pickle.load(open(\"pickle_files/X_data.pickle\", \"rb\"))\n",
    "y_data = pickle.load(open(\"pickle_files/y_data.pickle\", \"rb\"))"
   ]
  },
  {
   "cell_type": "markdown",
   "metadata": {},
   "source": [
    "#### train_test_split"
   ]
  },
  {
   "cell_type": "code",
   "execution_count": 34,
   "metadata": {},
   "outputs": [
    {
     "data": {
      "text/plain": [
       "(4000,)"
      ]
     },
     "execution_count": 34,
     "metadata": {},
     "output_type": "execute_result"
    }
   ],
   "source": [
    "X_train, X_test, y_train, y_test = train_test_split(X_data,y_data, test_size = 0.2, shuffle=True, stratify = y_data)\n",
    "X_train.shape\n",
    "X_test.shape"
   ]
  },
  {
   "cell_type": "markdown",
   "metadata": {},
   "source": [
    "#### text to int"
   ]
  },
  {
   "cell_type": "code",
   "execution_count": 35,
   "metadata": {},
   "outputs": [],
   "source": [
    "t = Tokenizer()\n",
    "t.fit_on_texts(X_data)"
   ]
  },
  {
   "cell_type": "code",
   "execution_count": 36,
   "metadata": {},
   "outputs": [],
   "source": [
    "# print(t.word_counts)\n",
    "# print(t.document_count)\n",
    "# print(t.word_docs)"
   ]
  },
  {
   "cell_type": "code",
   "execution_count": 37,
   "metadata": {},
   "outputs": [
    {
     "name": "stdout",
     "output_type": "stream",
     "text": [
      "max_length: 2140\n",
      "vocab_size: 59933\n"
     ]
    }
   ],
   "source": [
    "max_length = max([len(s.split()) for s in X_data])\n",
    "vocab_size = len(t.word_index) + 1\n",
    "print(\"max_length: {}\".format(max_length))\n",
    "print(\"vocab_size: {}\".format(vocab_size))\n",
    "max_length = 200"
   ]
  },
  {
   "cell_type": "code",
   "execution_count": 38,
   "metadata": {},
   "outputs": [],
   "source": [
    "# Tokens to index in vocab\n",
    "X_train_tokens = t.texts_to_sequences(X_train)\n",
    "X_test_tokens = t.texts_to_sequences(X_test)"
   ]
  },
  {
   "cell_type": "code",
   "execution_count": 39,
   "metadata": {},
   "outputs": [],
   "source": [
    "X_train_pad = sequence.pad_sequences(X_train_tokens, maxlen=max_length)\n",
    "X_test_pad = sequence.pad_sequences(X_test_tokens, maxlen=max_length)"
   ]
  },
  {
   "cell_type": "markdown",
   "metadata": {},
   "source": [
    "#### save an load pickle files"
   ]
  },
  {
   "cell_type": "code",
   "execution_count": 40,
   "metadata": {},
   "outputs": [],
   "source": [
    "pickle.dump(X_train_pad, open(\"pickle_files/X_train_pad.pickle\", \"wb\"))\n",
    "pickle.dump(X_test_pad, open(\"pickle_files/X_test_pad.pickle\", \"wb\"))\n",
    "pickle.dump(y_train, open(\"pickle_files/y_train.pickle\", \"wb\"))\n",
    "pickle.dump(y_test, open(\"pickle_files/y_test.pickle\", \"wb\"))"
   ]
  },
  {
   "cell_type": "code",
   "execution_count": 41,
   "metadata": {},
   "outputs": [],
   "source": [
    "X_train_pad = pickle.load(open(\"pickle_files/X_train_pad.pickle\", \"rb\"))\n",
    "X_test_pad = pickle.load(open(\"pickle_files/X_test_pad.pickle\", \"rb\"))\n",
    "y_train = pickle.load(open(\"pickle_files/y_train.pickle\", \"rb\"))\n",
    "y_test = pickle.load(open(\"pickle_files/y_test.pickle\", \"rb\"))"
   ]
  },
  {
   "cell_type": "code",
   "execution_count": 42,
   "metadata": {},
   "outputs": [
    {
     "name": "stdout",
     "output_type": "stream",
     "text": [
      "(16000, 200)\n",
      "(4000, 200)\n",
      "(16000,)\n",
      "(4000,)\n"
     ]
    }
   ],
   "source": [
    "print(X_train_pad.shape)\n",
    "print(X_test_pad.shape)\n",
    "print(y_train.shape)\n",
    "print(y_test.shape)"
   ]
  },
  {
   "cell_type": "markdown",
   "metadata": {},
   "source": [
    "#### build the model"
   ]
  },
  {
   "cell_type": "code",
   "execution_count": 43,
   "metadata": {},
   "outputs": [],
   "source": [
    "model = Sequential()\n",
    "model.add(Embedding(vocab_size, 64, input_length=max_length))\n",
    "model.add(Bidirectional(LSTM(32)))\n",
    "model.add(Dropout(0.5))\n",
    "model.add(Dense(1, activation='sigmoid'))\n",
    "\n",
    "model.compile('adam', 'binary_crossentropy', metrics=['accuracy'])"
   ]
  },
  {
   "cell_type": "code",
   "execution_count": 44,
   "metadata": {},
   "outputs": [
    {
     "name": "stdout",
     "output_type": "stream",
     "text": [
      "_________________________________________________________________\n",
      "Layer (type)                 Output Shape              Param #   \n",
      "=================================================================\n",
      "embedding_2 (Embedding)      (None, 200, 64)           3835712   \n",
      "_________________________________________________________________\n",
      "bidirectional_2 (Bidirection (None, 64)                24832     \n",
      "_________________________________________________________________\n",
      "dropout_2 (Dropout)          (None, 64)                0         \n",
      "_________________________________________________________________\n",
      "dense_2 (Dense)              (None, 1)                 65        \n",
      "=================================================================\n",
      "Total params: 3,860,609\n",
      "Trainable params: 3,860,609\n",
      "Non-trainable params: 0\n",
      "_________________________________________________________________\n"
     ]
    }
   ],
   "source": [
    "model.summary()"
   ]
  },
  {
   "cell_type": "markdown",
   "metadata": {},
   "source": [
    "#### train the model"
   ]
  },
  {
   "cell_type": "code",
   "execution_count": 45,
   "metadata": {
    "scrolled": true
   },
   "outputs": [
    {
     "name": "stdout",
     "output_type": "stream",
     "text": [
      "Train on 16000 samples, validate on 4000 samples\n",
      "Epoch 1/10\n",
      "16000/16000 [==============================] - 99s 6ms/step - loss: 0.6274 - acc: 0.6546 - val_loss: 0.5171 - val_acc: 0.7418\n",
      "Epoch 2/10\n",
      "16000/16000 [==============================] - 100s 6ms/step - loss: 0.4382 - acc: 0.8017 - val_loss: 0.4580 - val_acc: 0.7923\n",
      "Epoch 3/10\n",
      "16000/16000 [==============================] - 102s 6ms/step - loss: 0.3426 - acc: 0.8576 - val_loss: 0.5404 - val_acc: 0.7883\n",
      "Epoch 4/10\n",
      "16000/16000 [==============================] - 98s 6ms/step - loss: 0.2758 - acc: 0.8930 - val_loss: 0.5237 - val_acc: 0.7850\n",
      "Epoch 5/10\n",
      "16000/16000 [==============================] - 93s 6ms/step - loss: 0.2126 - acc: 0.9239 - val_loss: 0.5913 - val_acc: 0.7615\n",
      "Epoch 6/10\n",
      "16000/16000 [==============================] - 91s 6ms/step - loss: 0.1713 - acc: 0.9414 - val_loss: 0.6367 - val_acc: 0.7688\n",
      "Epoch 7/10\n",
      "16000/16000 [==============================] - 95s 6ms/step - loss: 0.1333 - acc: 0.9549 - val_loss: 0.7544 - val_acc: 0.7625\n",
      "Epoch 8/10\n",
      "16000/16000 [==============================] - 90s 6ms/step - loss: 0.1223 - acc: 0.9584 - val_loss: 0.7482 - val_acc: 0.7645\n",
      "Epoch 9/10\n",
      "16000/16000 [==============================] - 95s 6ms/step - loss: 0.0860 - acc: 0.9731 - val_loss: 0.8894 - val_acc: 0.7595\n",
      "Epoch 10/10\n",
      "16000/16000 [==============================] - 94s 6ms/step - loss: 0.0740 - acc: 0.9760 - val_loss: 0.9359 - val_acc: 0.7572\n",
      "Cycle Time: 960.00s\n"
     ]
    }
   ],
   "source": [
    "start_time = time.clock()\n",
    "\n",
    "batch_size = 128\n",
    "epochs = 10\n",
    "history = model.fit(X_train_pad, y_train, \n",
    "          validation_data=(X_test_pad, y_test),\n",
    "          batch_size=batch_size, epochs=epochs, verbose=1)\n",
    "\n",
    "elapsed_time = time.clock() - start_time\n",
    "print('Cycle Time: {0:.2f}s'.format(round(elapsed_time)))"
   ]
  },
  {
   "cell_type": "markdown",
   "metadata": {},
   "source": [
    "Cycle Time: 958.00s - 10 Epochs - 16 "
   ]
  },
  {
   "cell_type": "code",
   "execution_count": 46,
   "metadata": {},
   "outputs": [
    {
     "data": {
      "image/png": "[encoded data removed]",
      "text/plain": [
       "<matplotlib.figure.Figure at 0x1d3029248d0>"
      ]
     },
     "metadata": {
      "needs_background": "light"
     },
     "output_type": "display_data"
    }
   ],
   "source": [
    "import matplotlib.pyplot as plt\n",
    "diag, axes = plt.subplots(nrows = 2, ncols = 1)\n",
    "for ax in axes:\n",
    "    axes[0].plot(history.history['acc'], c=\"b\")\n",
    "    axes[0].set_title('Accuracy')\n",
    "    axes[1].plot(history.history['loss'], c=\"g\")\n",
    "    axes[1].set_title('Loss')\n",
    "plt.tight_layout()"
   ]
  },
  {
   "cell_type": "code",
   "execution_count": 47,
   "metadata": {
    "scrolled": true
   },
   "outputs": [
    {
     "data": {
      "image/png": "[encoded data removed]",
      "text/plain": [
       "<matplotlib.figure.Figure at 0x1d3028a5eb8>"
      ]
     },
     "metadata": {
      "needs_background": "light"
     },
     "output_type": "display_data"
    }
   ],
   "source": [
    "training_accuracy = history.history['acc']\n",
    "test_accuracy = history.history['val_acc']\n",
    "\n",
    "# Create count of the number of epochs\n",
    "epoch_count = range(1, len(training_accuracy) + 1)\n",
    "\n",
    "# Visualize accuracy history\n",
    "plt.plot(epoch_count, training_accuracy, 'r-')\n",
    "plt.plot(epoch_count, test_accuracy, 'b-')\n",
    "plt.legend(['Training Accuracy', 'Test Accuracy'])\n",
    "plt.xlabel('Epoch')\n",
    "plt.ylabel('Accuracy Score')\n",
    "plt.show();"
   ]
  },
  {
   "cell_type": "code",
   "execution_count": 48,
   "metadata": {},
   "outputs": [
    {
     "name": "stdout",
     "output_type": "stream",
     "text": [
      "loss and accuracy of the model with test data\n",
      "4000/4000 [==============================] - 97s 24ms/step\n"
     ]
    },
    {
     "data": {
      "text/plain": [
       "[0.9358986402363283, 0.75725]"
      ]
     },
     "execution_count": 48,
     "metadata": {},
     "output_type": "execute_result"
    }
   ],
   "source": [
    "print('loss and accuracy of the model with test data')\n",
    "model.evaluate(X_test_pad, y_test, batch_size=1, verbose=1) #[1.6744082060362069, 0.71525] | [0.9358986402363283, 0.75725]\n",
    "# y_pred = model.predict(X_test_pad)"
   ]
  },
  {
   "cell_type": "markdown",
   "metadata": {},
   "source": [
    "#### save model"
   ]
  },
  {
   "cell_type": "code",
   "execution_count": 49,
   "metadata": {},
   "outputs": [],
   "source": [
    "path = \"./Models/\"\n",
    "model_file_name = \"Spoiler_Detection_Model\"\n",
    "files = [f for f in os.listdir(path) if os.path.isfile(os.path.join(path, f))]\n",
    "count = 0\n",
    "for f in files:\n",
    "    if (f.find(model_file_name) != -1):\n",
    "        count +=1\n",
    "filename = '' + path + model_file_name + str(count+1) + '.h5'\n",
    "model.save(filename)"
   ]
  },
  {
   "cell_type": "markdown",
   "metadata": {},
   "source": [
    "#### load model"
   ]
  },
  {
   "cell_type": "code",
   "execution_count": 50,
   "metadata": {},
   "outputs": [],
   "source": [
    "from keras.models import load_model\n",
    "model = load_model('Models/Spoiler_Detection_Model1.h5')"
   ]
  },
  {
   "cell_type": "markdown",
   "metadata": {},
   "source": [
    "#### prediction"
   ]
  },
  {
   "cell_type": "code",
   "execution_count": 51,
   "metadata": {},
   "outputs": [
    {
     "name": "stdout",
     "output_type": "stream",
     "text": [
      "[[1, 295, 82, 1270, 7, 1, 12, 2, 80, 17, 1462], [893, 13653], [9, 130, 1, 12, 2, 69, 442, 8]]\n"
     ]
    },
    {
     "data": {
      "text/plain": [
       "array([[0.43797684],\n",
       "       [0.97607374],\n",
       "       [0.23623365]], dtype=float32)"
      ]
     },
     "execution_count": 51,
     "metadata": {},
     "output_type": "execute_result"
    }
   ],
   "source": [
    "test_sample = [\"The main character dies in the movie and also his sister.\", \"spoiler alarm\", \"I love the movie and would recommend it\"]\n",
    "test_sample_tokens = t.texts_to_sequences(test_sample)\n",
    "print(test_sample_tokens)\n",
    "test_sample_tokens_pad = sequence.pad_sequences(test_sample_tokens, maxlen=max_length)\n",
    "model.predict(x=test_sample_tokens_pad)"
   ]
  },
  {
   "cell_type": "markdown",
   "metadata": {},
   "source": [
    "### TODOs\n",
    "* pretrained word embeddings (word2vec, glove, fasttext)\n",
    "* preprocessing steps (lemmatisation, remove stopwords..)\n",
    "* more complex network architecture\n",
    "* train on the whole dataset\n",
    "* split data into train, test, validation\n",
    "* use Google BERT"
   ]
  },
  {
   "cell_type": "code",
   "execution_count": null,
   "metadata": {},
   "outputs": [],
   "source": []
  }
 ],
 "metadata": {
  "kernelspec": {
   "display_name": "Python 3",
   "language": "python",
   "name": "python3"
  },
  "language_info": {
   "codemirror_mode": {
    "name": "ipython",
    "version": 3
   },
   "file_extension": ".py",
   "mimetype": "text/x-python",
   "name": "python",
   "nbconvert_exporter": "python",
   "pygments_lexer": "ipython3",
   "version": "3.6.4"
  }
 },
 "nbformat": 4,
 "nbformat_minor": 2
}
